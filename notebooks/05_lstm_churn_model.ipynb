{
 "cells": [
  {
   "cell_type": "markdown",
   "id": "521acf54",
   "metadata": {},
   "source": [
    " # Cell 0 — Import Libraries & Set Paths\n",
    " This cell imports required libraries for data loading, \n",
    "preprocessing, modeling, and visualization."
   ]
  },
  {
   "cell_type": "code",
   "execution_count": null,
   "id": "9fbe04fb",
   "metadata": {},
   "outputs": [],
   "source": [
    "import pandas as pd\n",
    "import numpy as np\n",
    "from pathlib import Path\n",
    "import matplotlib.pyplot as plt\n",
    "import seaborn as sns\n",
    "from sklearn.model_selection import train_test_split\n",
    "from sklearn.metrics import classification_report, confusion_matrix, roc_cur\n",
    "from sklearn.preprocessing import StandardScaler\n",
    "import tensorflow as tf\n",
    "from tensorflow.keras.models import Sequential\n",
    "from tensorflow.keras.layers import LSTM, Dense\n",
    "from tensorflow.keras.callbacks import EarlyStopping\n",
    " # Set file path for processed data\n",
    "data_path = Path(\"E:/Bachleros Research/slam-churn-project/data/processed/user_data.csv\")\n",
    "project_root = Path.cwd().parent\n",
    "output_dir = project_root / \"outputs\" \n",
    "vis_dir = output_dir / \"DL_Visuals\"\n",
    "vis_dir.mkdir(parents=True, exist_ok=True)"
   ]
  }
 ],
 "metadata": {
  "language_info": {
   "name": "python"
  }
 },
 "nbformat": 4,
 "nbformat_minor": 5
}
