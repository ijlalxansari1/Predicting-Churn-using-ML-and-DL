{
 "cells": [
  {
   "cell_type": "markdown",
   "id": "ccacbe18",
   "metadata": {},
   "source": [
    " # Cell 1 – Load Parsed Sessions from Pickle File\n",
    "  This cell loads the parsed SLAM sessions (slam_sessions.pkl) from the\n",
    "  data/interim folder.\n",
    "  These are the raw token-level session logs we will use to extract metadata such\n",
    "  as user ID, session type, client platform, time spent, and activity days"
   ]
  },
  {
   "cell_type": "code",
   "execution_count": 1,
   "id": "e88ac11d",
   "metadata": {},
   "outputs": [
    {
     "name": "stdout",
     "output_type": "stream",
     "text": [
      "✅ slam_sessions loaded. Total sessions: 824012\n"
     ]
    }
   ],
   "source": [
    "import pickle\n",
    "from pathlib import Path\n",
    "import pandas as pd\n",
    "import numpy as np\n",
    "\n",
    "# Set project root (assuming current script is in a subfolder)\n",
    "project_root = Path.cwd().parent\n",
    "\n",
    "# Define path to the pickle file\n",
    "parsed_sessions_path = project_root / \"data\" / \"interim\" / \"slam_sessions.pkl\"\n",
    "\n",
    "# Load the pickle file\n",
    "with open(parsed_sessions_path, \"rb\") as f:\n",
    "    slam_sessions = pickle.load(f)\n",
    "\n",
    "print(f\"✅ slam_sessions loaded. Total sessions: {len(slam_sessions)}\")\n"
   ]
  },
  {
   "cell_type": "markdown",
   "id": "3b2484b4",
   "metadata": {},
   "source": [
    " # Cell 2 – Extract Metadata to DataFrame\n",
    " This cell extracts key metadata from each session such as user_id,\n",
    " session_type, client, days, time, etc.\n",
    " We create a structured DataFrame df_sessions and handle missing/null values\n",
    " for numeric fields"
   ]
  },
  {
   "cell_type": "code",
   "execution_count": 2,
   "id": "996901c0",
   "metadata": {},
   "outputs": [
    {
     "name": "stdout",
     "output_type": "stream",
     "text": [
      "📁 Metadata saved to: f:\\Bachleros Research\\slam-churn-project\\data\\processed\\parsed_sessions.csv\n",
      "✅ Total rows saved: 595100\n",
      "\n",
      "📊 session_type breakdown:\n",
      " session_type\n",
      "lesson      493236\n",
      "practice     93907\n",
      "test          7957\n",
      "Name: count, dtype: int64\n",
      "\n",
      "🖥️ client breakdown:\n",
      " client\n",
      "android    416645\n",
      "ios        107590\n",
      "web         70865\n",
      "Name: count, dtype: int64\n",
      "\n",
      "📈 Numeric stats:\n",
      "                 days           time\n",
      "count  595100.000000  595100.000000\n",
      "mean        6.072470      24.693122\n",
      "std         5.631776     766.344798\n",
      "min         0.000000    -156.000000\n",
      "25%         1.307000       5.000000\n",
      "50%         4.355500       9.000000\n",
      "75%         9.284000      17.000000\n",
      "max        28.042000  330554.000000\n"
     ]
    }
   ],
   "source": [
    "\n",
    "def extract_metadata(session):\n",
    "    metadata = {\n",
    "        \"prompt\": \"\", \"user_id\": \"\", \"countries\": \"\", \"days\": 0,\n",
    "        \"client\": \"\", \"session_type\": \"\", \"format\": \"\", \"time\": 0\n",
    "    }\n",
    "    for line in session:\n",
    "        if line.startswith(\"# prompt:\"):\n",
    "            metadata[\"prompt\"] = line.replace(\"# prompt:\", \"\").strip()\n",
    "        elif line.startswith(\"# user:\"):\n",
    "            parts = line.replace(\"# user:\", \"\").strip().split()\n",
    "            metadata[\"user_id\"] = parts[0]\n",
    "            for part in parts[1:]:\n",
    "                if \":\" in part:\n",
    "                    key, value = part.split(\":\")\n",
    "                    if key == \"session\":\n",
    "                        metadata[\"session_type\"] = value\n",
    "                    elif key == \"days\":\n",
    "                        metadata[\"days\"] = value\n",
    "                    elif key in metadata:\n",
    "                        metadata[key] = value\n",
    "    return metadata\n",
    "\n",
    "# Apply extractor to sessions that have prompts\n",
    "parsed_metadata = [\n",
    "    extract_metadata(s) for s in slam_sessions\n",
    "    if any(\"# prompt:\" in line for line in s)\n",
    "]\n",
    "\n",
    "# Build DataFrame\n",
    "df_sessions = pd.DataFrame(parsed_metadata)\n",
    "\n",
    "# Clean up 'time' and 'days' columns\n",
    "df_sessions['time'] = pd.to_numeric(df_sessions['time'].replace(['null', '', None], 0))\n",
    "df_sessions['days'] = pd.to_numeric(df_sessions['days'].replace(['null', '', None], 0))\n",
    "\n",
    "# Save to CSV\n",
    "output_path = project_root / \"data\" / \"processed\" / \"parsed_sessions.csv\"\n",
    "output_path.parent.mkdir(parents=True, exist_ok=True)\n",
    "df_sessions.to_csv(output_path, index=False)\n",
    "\n",
    "# Print summary\n",
    "print(f\"📁 Metadata saved to: {output_path}\")\n",
    "print(f\"✅ Total rows saved: {len(df_sessions)}\\n\")\n",
    "\n",
    "# Inspect value counts\n",
    "print(\"📊 session_type breakdown:\\n\", df_sessions['session_type'].value_counts())\n",
    "print(\"\\n🖥️ client breakdown:\\n\", df_sessions['client'].value_counts())\n",
    "print(\"\\n📈 Numeric stats:\\n\", df_sessions[['days', 'time']].describe())\n"
   ]
  },
  {
   "cell_type": "markdown",
   "id": "8ba1415e",
   "metadata": {},
   "source": [
    "# Cell 3 – Inspect Raw Lines with Session-Type Information\n",
    " This helps verify that session types like \n",
    " correctly tagged in the logs"
   ]
  },
  {
   "cell_type": "code",
   "execution_count": 3,
   "id": "90ff680b",
   "metadata": {},
   "outputs": [
    {
     "name": "stdout",
     "output_type": "stream",
     "text": [
      "🔍 Checking session lines that might contain 'session_type':\n",
      "\n",
      "🆕 New session:\n",
      "   # user:XEinXf5+  countries:CO  days:0.003  client:web  session:lesson  format:reverse_translate  time:9\n",
      "🆕 New session:\n",
      "   # user:XEinXf5+  countries:CO  days:0.005  client:web  session:lesson  format:reverse_translate  time:12\n",
      "🆕 New session:\n",
      "   # user:XEinXf5+  countries:CO  days:0.008  client:web  session:lesson  format:reverse_translate  time:6\n",
      "🆕 New session:\n",
      "   # user:XEinXf5+  countries:CO  days:0.008  client:web  session:lesson  format:reverse_translate  time:13\n",
      "🆕 New session:\n",
      "   # user:XEinXf5+  countries:CO  days:0.008  client:web  session:lesson  format:reverse_translate  time:16\n",
      "🆕 New session:\n",
      "   # user:XEinXf5+  countries:CO  days:0.011  client:web  session:lesson  format:reverse_translate  time:10\n",
      "🆕 New session:\n",
      "   # user:XEinXf5+  countries:CO  days:0.011  client:web  session:lesson  format:reverse_translate  time:5\n",
      "🆕 New session:\n",
      "   # user:XEinXf5+  countries:CO  days:0.016  client:web  session:lesson  format:reverse_translate  time:11\n",
      "🆕 New session:\n",
      "   # user:XEinXf5+  countries:CO  days:0.016  client:web  session:lesson  format:reverse_translate  time:10\n",
      "🆕 New session:\n",
      "   # user:XEinXf5+  countries:CO  days:0.018  client:web  session:lesson  format:listen  time:5\n"
     ]
    }
   ],
   "source": [
    "# -------------------- CELL 3: Inspect Session Types -------------------\n",
    "print(\"🔍 Checking session lines that might contain 'session_type':\\n\")\n",
    "for session in slam_sessions[:10]:\n",
    "    print(\"🆕 New session:\")\n",
    "    for line in session:\n",
    "        if \"session_type\" in line.lower() or \"session:\" in line.lower():\n",
    "            print(\"  \", line)\n"
   ]
  },
  {
   "cell_type": "markdown",
   "id": "124f59af",
   "metadata": {},
   "source": [
    "# Cell 4 – Filter Early Sessions (≤14 Days)\n",
    " We focus only on sessions from the first 14 days of activity per user.\n",
    " This matches our proposal’s scope for predicting churn based on early behavior."
   ]
  },
  {
   "cell_type": "code",
   "execution_count": 4,
   "id": "9b906d4d",
   "metadata": {},
   "outputs": [
    {
     "name": "stdout",
     "output_type": "stream",
     "text": [
      "✅ Filtered early sessions: 481271 rows\n"
     ]
    }
   ],
   "source": [
    "# -------------------- CELL 4: Filter Early Sessions -------------------\n",
    "df_cleaned = df_sessions.dropna(subset=[\"time\"])\n",
    "df_cleaned = df_cleaned[df_cleaned[\"time\"] > 0]\n",
    "\n",
    "# IQR filtering for outliers in time\n",
    "Q1 = df_cleaned[\"time\"].quantile(0.25)\n",
    "Q3 = df_cleaned[\"time\"].quantile(0.75)\n",
    "IQR = Q3 - Q1\n",
    "lower_bound = Q1 - 1.5 * IQR\n",
    "upper_bound = Q3 + 1.5 * IQR\n",
    "df_cleaned = df_cleaned[(df_cleaned[\"time\"] >= lower_bound) & (df_cleaned[\"time\"] <= upper_bound)]\n",
    "\n",
    "# Normalize session_type\n",
    "df_cleaned[\"session_type\"] = df_cleaned[\"session_type\"].astype(str).str.lower()\n",
    "\n",
    "# Filter early sessions\n",
    "early_sessions = df_cleaned[df_cleaned['days'] <= 14].copy()\n",
    "print(f\"✅ Filtered early sessions: {early_sessions.shape[0]} rows\")\n"
   ]
  },
  {
   "cell_type": "markdown",
   "id": "0e7cc4c6",
   "metadata": {},
   "source": [
    "## 🧮 Cell 5 – Feature Engineering: Aggregate Session Data Per User\n",
    "\n",
    "We create user-level features to summarize behavior across sessions. These include:\n",
    "\n",
    "- Average session time, total time, and count of sessions\n",
    "- First and last active day, and list of unique active days\n",
    "- Counts of different `session_type` and `client` (platforms)\n",
    "\n",
    "These features are essential for churn modeling and behavioral analysis.\n"
   ]
  },
  {
   "cell_type": "code",
   "execution_count": 5,
   "id": "6a56055b",
   "metadata": {},
   "outputs": [
    {
     "name": "stdout",
     "output_type": "stream",
     "text": [
      "✅ User features created:\n"
     ]
    },
    {
     "data": {
      "text/html": [
       "<div>\n",
       "<style scoped>\n",
       "    .dataframe tbody tr th:only-of-type {\n",
       "        vertical-align: middle;\n",
       "    }\n",
       "\n",
       "    .dataframe tbody tr th {\n",
       "        vertical-align: top;\n",
       "    }\n",
       "\n",
       "    .dataframe thead th {\n",
       "        text-align: right;\n",
       "    }\n",
       "</style>\n",
       "<table border=\"1\" class=\"dataframe\">\n",
       "  <thead>\n",
       "    <tr style=\"text-align: right;\">\n",
       "      <th></th>\n",
       "      <th>user_id</th>\n",
       "      <th>avg_time</th>\n",
       "      <th>total_time</th>\n",
       "      <th>session_count</th>\n",
       "      <th>first_day</th>\n",
       "      <th>last_day</th>\n",
       "      <th>active_days</th>\n",
       "      <th>session_type_counts</th>\n",
       "      <th>client_counts</th>\n",
       "    </tr>\n",
       "  </thead>\n",
       "  <tbody>\n",
       "    <tr>\n",
       "      <th>0</th>\n",
       "      <td>++j955YG</td>\n",
       "      <td>9.407895</td>\n",
       "      <td>1430</td>\n",
       "      <td>152</td>\n",
       "      <td>0.004</td>\n",
       "      <td>13.102</td>\n",
       "      <td>[0.004, 1.059, 1.063, 1.065, 1.925, 1.93, 1.93...</td>\n",
       "      <td>{'lesson': 131, 'practice': 21}</td>\n",
       "      <td>{'android': 142, 'web': 10}</td>\n",
       "    </tr>\n",
       "    <tr>\n",
       "      <th>1</th>\n",
       "      <td>+/iDvu/I</td>\n",
       "      <td>9.309973</td>\n",
       "      <td>3454</td>\n",
       "      <td>371</td>\n",
       "      <td>0.369</td>\n",
       "      <td>12.905</td>\n",
       "      <td>[0.369, 0.371, 0.379, 2.315, 2.317, 2.319, 2.3...</td>\n",
       "      <td>{'lesson': 328, 'practice': 43}</td>\n",
       "      <td>{'android': 371}</td>\n",
       "    </tr>\n",
       "    <tr>\n",
       "      <th>2</th>\n",
       "      <td>+0UEF02n</td>\n",
       "      <td>12.648649</td>\n",
       "      <td>1404</td>\n",
       "      <td>111</td>\n",
       "      <td>0.006</td>\n",
       "      <td>1.443</td>\n",
       "      <td>[0.006, 0.01, 0.015, 0.019, 0.029, 0.032, 0.03...</td>\n",
       "      <td>{'lesson': 107, 'practice': 4}</td>\n",
       "      <td>{'ios': 111}</td>\n",
       "    </tr>\n",
       "    <tr>\n",
       "      <th>3</th>\n",
       "      <td>+197nchq</td>\n",
       "      <td>17.761468</td>\n",
       "      <td>1936</td>\n",
       "      <td>109</td>\n",
       "      <td>0.023</td>\n",
       "      <td>13.013</td>\n",
       "      <td>[0.023, 1.026, 1.046, 1.88, 1.885, 1.894, 3.00...</td>\n",
       "      <td>{'lesson': 107, 'practice': 2}</td>\n",
       "      <td>{'android': 109}</td>\n",
       "    </tr>\n",
       "    <tr>\n",
       "      <th>4</th>\n",
       "      <td>+7lbKZrn</td>\n",
       "      <td>10.307339</td>\n",
       "      <td>2247</td>\n",
       "      <td>218</td>\n",
       "      <td>0.469</td>\n",
       "      <td>13.451</td>\n",
       "      <td>[0.469, 1.414, 1.418, 1.422, 1.491, 1.494, 1.5...</td>\n",
       "      <td>{'lesson': 122, 'practice': 96}</td>\n",
       "      <td>{'android': 218}</td>\n",
       "    </tr>\n",
       "  </tbody>\n",
       "</table>\n",
       "</div>"
      ],
      "text/plain": [
       "    user_id   avg_time  total_time  session_count  first_day  last_day  \\\n",
       "0  ++j955YG   9.407895        1430            152      0.004    13.102   \n",
       "1  +/iDvu/I   9.309973        3454            371      0.369    12.905   \n",
       "2  +0UEF02n  12.648649        1404            111      0.006     1.443   \n",
       "3  +197nchq  17.761468        1936            109      0.023    13.013   \n",
       "4  +7lbKZrn  10.307339        2247            218      0.469    13.451   \n",
       "\n",
       "                                         active_days  \\\n",
       "0  [0.004, 1.059, 1.063, 1.065, 1.925, 1.93, 1.93...   \n",
       "1  [0.369, 0.371, 0.379, 2.315, 2.317, 2.319, 2.3...   \n",
       "2  [0.006, 0.01, 0.015, 0.019, 0.029, 0.032, 0.03...   \n",
       "3  [0.023, 1.026, 1.046, 1.88, 1.885, 1.894, 3.00...   \n",
       "4  [0.469, 1.414, 1.418, 1.422, 1.491, 1.494, 1.5...   \n",
       "\n",
       "               session_type_counts                client_counts  \n",
       "0  {'lesson': 131, 'practice': 21}  {'android': 142, 'web': 10}  \n",
       "1  {'lesson': 328, 'practice': 43}             {'android': 371}  \n",
       "2   {'lesson': 107, 'practice': 4}                 {'ios': 111}  \n",
       "3   {'lesson': 107, 'practice': 2}             {'android': 109}  \n",
       "4  {'lesson': 122, 'practice': 96}             {'android': 218}  "
      ]
     },
     "execution_count": 5,
     "metadata": {},
     "output_type": "execute_result"
    }
   ],
   "source": [
    "# Group session data per user to extract behavior features\n",
    "user_features = early_sessions.groupby('user_id').agg({\n",
    "    'time': ['mean', 'sum', 'count'],\n",
    "    'days': ['min', 'max', lambda x: sorted(x.unique())],\n",
    "    'session_type': lambda x: x.value_counts().to_dict(),\n",
    "    'client': lambda x: x.value_counts().to_dict()\n",
    "}).reset_index()\n",
    "\n",
    "# Flatten MultiIndex column names\n",
    "user_features.columns = [\n",
    "    'user_id', 'avg_time', 'total_time', 'session_count',\n",
    "    'first_day', 'last_day', 'active_days',\n",
    "    'session_type_counts', 'client_counts'\n",
    "]\n",
    "\n",
    "print(\"✅ User features created:\")\n",
    "user_features.head()\n"
   ]
  }
 ],
 "metadata": {
  "kernelspec": {
   "display_name": ".venv",
   "language": "python",
   "name": "python3"
  },
  "language_info": {
   "codemirror_mode": {
    "name": "ipython",
    "version": 3
   },
   "file_extension": ".py",
   "mimetype": "text/x-python",
   "name": "python",
   "nbconvert_exporter": "python",
   "pygments_lexer": "ipython3",
   "version": "3.13.5"
  }
 },
 "nbformat": 4,
 "nbformat_minor": 5
}
