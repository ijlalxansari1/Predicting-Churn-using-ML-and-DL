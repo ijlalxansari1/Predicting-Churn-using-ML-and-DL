{
 "cells": [
  {
   "cell_type": "markdown",
   "id": "e5da89fe",
   "metadata": {},
   "source": [
    "# 📦 Import Core Libraries and 📂 Setup and Check Data File   \n",
    "Essential libraries for data loading, exploration, and basic manipulation. \n",
    "Set the project path and check if the raw SLAM training data file exists.  \n",
    "Preview the first few lines if found.\n"
   ]
  },
  {
   "cell_type": "code",
   "execution_count": 10,
   "id": "62c0cd88",
   "metadata": {},
   "outputs": [
    {
     "name": "stdout",
     "output_type": "stream",
     "text": [
      "✅ Train file found.\n",
      "Path: f:\\Bachleros Research\\Rsearch thesis\\New folder\\Predicting-Churn-using-ML-and-DL\\data\\raw\\data_en_es\\en_es.slam.20190204.train\n",
      "\n",
      "Sample lines:\n",
      "# prompt:Yo soy un niño.\n",
      "# user:XEinXf5+  countries:CO  days:0.003  client:web  session:lesson  format:reverse_translate  time:9\n",
      "DRihrVmh0101  I             PRON    Case=Nom|Number=Sing|Person=1|PronType=Prs|fPOS=PRON++PRP               nsubj        4  0\n",
      "DRihrVmh0102  am            VERB    Mood=Ind|Number=Sing|Person=1|Tense=Pres|VerbForm=Fin|fPOS=VERB++VBP    cop          4  0\n",
      "DRihrVmh0103  a             DET     Definite=Ind|PronType=Art|fPOS=DET++DT                                  det          4  0\n"
     ]
    }
   ],
   "source": [
    "# -------------------- CELL 1: Setup and Check Data File ------------------\n",
    "from pathlib import Path\n",
    "\n",
    "# Go up one level from notebooks/ to the project root\n",
    "project_root = Path.cwd().parent\n",
    "base_path = project_root / \"data\" / \"raw\" / \"data_en_es\"\n",
    "train_file = base_path / \"en_es.slam.20190204.train\"\n",
    "\n",
    "# Check if file exists\n",
    "if train_file.exists():\n",
    "    print(\"✅ Train file found.\")\n",
    "    print(\"Path:\", train_file)\n",
    "    \n",
    "    with open(train_file, \"r\", encoding=\"utf-8\") as file:\n",
    "        print(\"\\nSample lines:\")\n",
    "        for _ in range(5):\n",
    "            print(file.readline().strip())  # ✅ This is now inside the `with` block\n",
    "\n",
    "else:\n",
    "    raise FileNotFoundError(f\"❌ Training file not found at {train_file}\")\n"
   ]
  },
  {
   "cell_type": "markdown",
   "id": "52e56507",
   "metadata": {},
   "source": [
    "# 🔄 Parse SLAM Sessions and Save to Pickle  \n",
    "This section parses the raw SLAM training file into structured sessions. Each session is a block of lines separated by an empty line.\n",
    "\n",
    "**Steps**:\n",
    "- Parse each session as a list of lines.\n",
    "- Append all sessions to a main list (`slam_sessions`).\n",
    "- Preview one example session.\n",
    "- Save the parsed data into a `.pkl` file for reuse in later notebooks.\n"
   ]
  },
  {
   "cell_type": "code",
   "execution_count": 11,
   "id": "59a532a5",
   "metadata": {},
   "outputs": [
    {
     "name": "stdout",
     "output_type": "stream",
     "text": [
      "✅ Parsed sessions: 824012\n",
      "\n",
      "Sample Session:\n",
      "# prompt:Yo soy un niño.\n",
      "# user:XEinXf5+  countries:CO  days:0.003  client:web  session:lesson  format:reverse_translate  time:9\n",
      "DRihrVmh0101  I             PRON    Case=Nom|Number=Sing|Person=1|PronType=Prs|fPOS=PRON++PRP               nsubj        4  0\n",
      "DRihrVmh0102  am            VERB    Mood=Ind|Number=Sing|Person=1|Tense=Pres|VerbForm=Fin|fPOS=VERB++VBP    cop          4  0\n",
      "DRihrVmh0103  a             DET     Definite=Ind|PronType=Art|fPOS=DET++DT                                  det          4  0\n",
      "DRihrVmh0104  boy           NOUN    Number=Sing|fPOS=NOUN++NN                                               ROOT         0  0\n",
      "✅ slam_sessions saved to: f:\\Bachleros Research\\Rsearch thesis\\New folder\\Predicting-Churn-using-ML-and-DL\\data\\interim\\slam_sessions.pkl\n"
     ]
    }
   ],
   "source": [
    "import pickle\n",
    "from pathlib import Path\n",
    "\n",
    "def parse_slam_sessions(filepath):\n",
    "    sessions = []\n",
    "    current_session = []\n",
    "    with open(filepath, \"r\", encoding=\"utf-8\") as file:\n",
    "        for line in file:\n",
    "            line = line.strip()\n",
    "            if line == \"\":\n",
    "                if current_session:\n",
    "                    sessions.append(current_session)\n",
    "                    current_session = []\n",
    "            else:\n",
    "                current_session.append(line)\n",
    "        if current_session:\n",
    "            sessions.append(current_session)\n",
    "    return sessions\n",
    "\n",
    "# Parse and preview\n",
    "slam_sessions = parse_slam_sessions(train_file)\n",
    "print(f\"✅ Parsed sessions: {len(slam_sessions)}\")\n",
    "if slam_sessions:\n",
    "    print(\"\\nSample Session:\")\n",
    "    for line in slam_sessions[0]:\n",
    "        print(line)\n",
    "else:\n",
    "    print(\"⚠ No sessions found.\")\n",
    "\n",
    "# Save parsed sessions to disk\n",
    "parsed_sessions_path = project_root / \"data\" / \"interim\" / \"slam_sessions.pkl\"\n",
    "parsed_sessions_path.parent.mkdir(parents=True, exist_ok=True)\n",
    "with open(parsed_sessions_path, \"wb\") as f:\n",
    "    pickle.dump(slam_sessions, f)\n",
    "print(f\"✅ slam_sessions saved to: {parsed_sessions_path}\")"
   ]
  },
  {
   "cell_type": "markdown",
   "id": "965327a3",
   "metadata": {},
   "source": [
    "# 📋 Notebook Summary\n",
    "\n",
    "This notebook accomplishes:\n",
    "1. **Data Loading**: Loads raw SLAM session data\n",
    "2. **Data Parsing**: Converts raw text into structured sessions\n",
    "3. **Validation**: Ensures data integrity and structure\n",
    "4. **Statistics**: Provides session count and memory usage\n",
    "5. **Storage**: Saves processed data for next steps\n",
    "\n",
    "Next notebook: `02_preprocessing_feature_eng.ipynb`"
   ]
  }
 ],
 "metadata": {
  "kernelspec": {
   "display_name": ".venv",
   "language": "python",
   "name": "python3"
  },
  "language_info": {
   "codemirror_mode": {
    "name": "ipython",
    "version": 3
   },
   "file_extension": ".py",
   "mimetype": "text/x-python",
   "name": "python",
   "nbconvert_exporter": "python",
   "pygments_lexer": "ipython3",
   "version": "3.13.5"
  }
 },
 "nbformat": 4,
 "nbformat_minor": 5
}
