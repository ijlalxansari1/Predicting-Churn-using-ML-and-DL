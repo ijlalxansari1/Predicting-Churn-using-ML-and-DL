{
 "cells": [
  {
   "cell_type": "markdown",
   "id": "62127f38",
   "metadata": {},
   "source": [
    "## 📦 Cell 0 — Setup & Imports\n",
    "\n",
    "This cell initializes the environment by importing all necessary libraries for:\n",
    "- Data handling and visualization,\n",
    "- Machine Learning models,\n",
    "- Path setup for reading input data and saving output results.\n",
    "\n",
    "We also ensure that required directories like `/outputs/visualizations` are created beforehand.\n"
   ]
  },
  {
   "cell_type": "code",
   "execution_count": 1,
   "id": "062fd442",
   "metadata": {},
   "outputs": [
    {
     "name": "stdout",
     "output_type": "stream",
     "text": [
      "✅ Environment setup complete.\n"
     ]
    }
   ],
   "source": [
    "import pandas as pd\n",
    "import numpy as np\n",
    "import matplotlib.pyplot as plt\n",
    "import seaborn as sns\n",
    "from pathlib import Path\n",
    "\n",
    "# ML setup\n",
    "from sklearn.model_selection import train_test_split\n",
    "from sklearn.preprocessing import StandardScaler\n",
    "from sklearn.metrics import accuracy_score, classification_report, confusion_matrix\n",
    "from sklearn.linear_model import LogisticRegression\n",
    "from sklearn.ensemble import RandomForestClassifier, GradientBoostingClassifier\n",
    "from xgboost import XGBClassifier\n",
    "from lightgbm import LGBMClassifier\n",
    "from sklearn.svm import SVC\n",
    "\n",
    "# Visualization setup\n",
    "sns.set(style=\"whitegrid\")\n",
    "\n",
    "# Paths\n",
    "project_root = Path.cwd().parent\n",
    "data_path = project_root / \"data\" / \"processed\" / \"user_features_expanded.csv\"\n",
    "output_dir = project_root / \"outputs\"\n",
    "vis_dir = output_dir / \"visualizations\"\n",
    "vis_dir.mkdir(parents=True, exist_ok=True)\n",
    "\n",
    "print(\"✅ Environment setup complete.\")\n"
   ]
  },
  {
   "cell_type": "markdown",
   "id": "f6f2695d",
   "metadata": {},
   "source": [
    "## 📄 Cell 1 — Load Final Processed User Feature Data\n",
    "\n",
    "This cell loads the preprocessed dataset `user_features_expanded.csv` that contains user-level session aggregates and a churn label.\n",
    "\n",
    "- The data has already been cleaned and engineered in earlier notebooks.\n",
    "- This is the core dataset we will use to build and evaluate machine learning models.\n"
   ]
  },
  {
   "cell_type": "code",
   "execution_count": 2,
   "id": "33da857c",
   "metadata": {},
   "outputs": [
    {
     "name": "stdout",
     "output_type": "stream",
     "text": [
      "✅ Data loaded successfully. Shape: (2580, 14)\n"
     ]
    },
    {
     "data": {
      "text/html": [
       "<div>\n",
       "<style scoped>\n",
       "    .dataframe tbody tr th:only-of-type {\n",
       "        vertical-align: middle;\n",
       "    }\n",
       "\n",
       "    .dataframe tbody tr th {\n",
       "        vertical-align: top;\n",
       "    }\n",
       "\n",
       "    .dataframe thead th {\n",
       "        text-align: right;\n",
       "    }\n",
       "</style>\n",
       "<table border=\"1\" class=\"dataframe\">\n",
       "  <thead>\n",
       "    <tr style=\"text-align: right;\">\n",
       "      <th></th>\n",
       "      <th>user_id</th>\n",
       "      <th>avg_time</th>\n",
       "      <th>total_time</th>\n",
       "      <th>session_count</th>\n",
       "      <th>first_day</th>\n",
       "      <th>last_day</th>\n",
       "      <th>active_days</th>\n",
       "      <th>churned</th>\n",
       "      <th>session_type_lesson</th>\n",
       "      <th>session_type_practice</th>\n",
       "      <th>session_type_test</th>\n",
       "      <th>client_android</th>\n",
       "      <th>client_web</th>\n",
       "      <th>client_ios</th>\n",
       "    </tr>\n",
       "  </thead>\n",
       "  <tbody>\n",
       "    <tr>\n",
       "      <th>0</th>\n",
       "      <td>++j955YG</td>\n",
       "      <td>9.407895</td>\n",
       "      <td>1430.0</td>\n",
       "      <td>152</td>\n",
       "      <td>0.004</td>\n",
       "      <td>13.102</td>\n",
       "      <td>[4.0000e-03 1.0590e+00 1.0630e+00 1.0650e+00 1...</td>\n",
       "      <td>False</td>\n",
       "      <td>131.0</td>\n",
       "      <td>21.0</td>\n",
       "      <td>0.0</td>\n",
       "      <td>142.0</td>\n",
       "      <td>10.0</td>\n",
       "      <td>0.0</td>\n",
       "    </tr>\n",
       "    <tr>\n",
       "      <th>1</th>\n",
       "      <td>+/iDvu/I</td>\n",
       "      <td>9.309973</td>\n",
       "      <td>3454.0</td>\n",
       "      <td>371</td>\n",
       "      <td>0.369</td>\n",
       "      <td>12.905</td>\n",
       "      <td>[ 0.369  0.371  0.379  2.315  2.317  2.319  2....</td>\n",
       "      <td>True</td>\n",
       "      <td>328.0</td>\n",
       "      <td>43.0</td>\n",
       "      <td>0.0</td>\n",
       "      <td>371.0</td>\n",
       "      <td>0.0</td>\n",
       "      <td>0.0</td>\n",
       "    </tr>\n",
       "    <tr>\n",
       "      <th>2</th>\n",
       "      <td>+0UEF02n</td>\n",
       "      <td>12.648649</td>\n",
       "      <td>1404.0</td>\n",
       "      <td>111</td>\n",
       "      <td>0.006</td>\n",
       "      <td>1.443</td>\n",
       "      <td>[0.006 0.01  0.015 0.019 0.029 0.032 0.039 0.1...</td>\n",
       "      <td>True</td>\n",
       "      <td>107.0</td>\n",
       "      <td>4.0</td>\n",
       "      <td>0.0</td>\n",
       "      <td>0.0</td>\n",
       "      <td>0.0</td>\n",
       "      <td>111.0</td>\n",
       "    </tr>\n",
       "    <tr>\n",
       "      <th>3</th>\n",
       "      <td>+197nchq</td>\n",
       "      <td>17.761468</td>\n",
       "      <td>1936.0</td>\n",
       "      <td>109</td>\n",
       "      <td>0.023</td>\n",
       "      <td>13.013</td>\n",
       "      <td>[ 0.023  1.026  1.046  1.88   1.885  1.894  3....</td>\n",
       "      <td>False</td>\n",
       "      <td>107.0</td>\n",
       "      <td>2.0</td>\n",
       "      <td>0.0</td>\n",
       "      <td>109.0</td>\n",
       "      <td>0.0</td>\n",
       "      <td>0.0</td>\n",
       "    </tr>\n",
       "    <tr>\n",
       "      <th>4</th>\n",
       "      <td>+7lbKZrn</td>\n",
       "      <td>10.307339</td>\n",
       "      <td>2247.0</td>\n",
       "      <td>218</td>\n",
       "      <td>0.469</td>\n",
       "      <td>13.451</td>\n",
       "      <td>[ 0.469  1.414  1.418  1.422  1.491  1.494  1....</td>\n",
       "      <td>False</td>\n",
       "      <td>122.0</td>\n",
       "      <td>96.0</td>\n",
       "      <td>0.0</td>\n",
       "      <td>218.0</td>\n",
       "      <td>0.0</td>\n",
       "      <td>0.0</td>\n",
       "    </tr>\n",
       "  </tbody>\n",
       "</table>\n",
       "</div>"
      ],
      "text/plain": [
       "    user_id   avg_time  total_time  session_count  first_day  last_day  \\\n",
       "0  ++j955YG   9.407895      1430.0            152      0.004    13.102   \n",
       "1  +/iDvu/I   9.309973      3454.0            371      0.369    12.905   \n",
       "2  +0UEF02n  12.648649      1404.0            111      0.006     1.443   \n",
       "3  +197nchq  17.761468      1936.0            109      0.023    13.013   \n",
       "4  +7lbKZrn  10.307339      2247.0            218      0.469    13.451   \n",
       "\n",
       "                                         active_days  churned  \\\n",
       "0  [4.0000e-03 1.0590e+00 1.0630e+00 1.0650e+00 1...    False   \n",
       "1  [ 0.369  0.371  0.379  2.315  2.317  2.319  2....     True   \n",
       "2  [0.006 0.01  0.015 0.019 0.029 0.032 0.039 0.1...     True   \n",
       "3  [ 0.023  1.026  1.046  1.88   1.885  1.894  3....    False   \n",
       "4  [ 0.469  1.414  1.418  1.422  1.491  1.494  1....    False   \n",
       "\n",
       "   session_type_lesson  session_type_practice  session_type_test  \\\n",
       "0                131.0                   21.0                0.0   \n",
       "1                328.0                   43.0                0.0   \n",
       "2                107.0                    4.0                0.0   \n",
       "3                107.0                    2.0                0.0   \n",
       "4                122.0                   96.0                0.0   \n",
       "\n",
       "   client_android  client_web  client_ios  \n",
       "0           142.0        10.0         0.0  \n",
       "1           371.0         0.0         0.0  \n",
       "2             0.0         0.0       111.0  \n",
       "3           109.0         0.0         0.0  \n",
       "4           218.0         0.0         0.0  "
      ]
     },
     "execution_count": 2,
     "metadata": {},
     "output_type": "execute_result"
    }
   ],
   "source": [
    "df = pd.read_csv(data_path)\n",
    "print(\"✅ Data loaded successfully. Shape:\", df.shape)\n",
    "df.head()\n"
   ]
  },
  {
   "cell_type": "markdown",
   "id": "574e3c9d",
   "metadata": {},
   "source": [
    "## 🧹 Cell 2 — Prepare Features, Target & Train-Test Split\n",
    "\n",
    "In this step:\n",
    "- We drop `user_id` as it’s just an identifier and not useful for prediction.\n",
    "- We extract `X` (features) and `y` (target = churned).\n",
    "- Missing values (if any) are filled with zero to prevent training issues.\n",
    "- Then, we split the data using stratified sampling (80% train, 20% test) to preserve churn ratio.\n",
    "- We scale the features using `StandardScaler` to ensure all features are on the same scale for models like SVM and Logistic Regression.\n"
   ]
  },
  {
   "cell_type": "code",
   "execution_count": 3,
   "id": "c47de77c",
   "metadata": {},
   "outputs": [
    {
     "name": "stdout",
     "output_type": "stream",
     "text": [
      "🔍 Target distribution (y):\n",
      "churned\n",
      "True     1647\n",
      "False     933\n",
      "Name: count, dtype: int64\n",
      "✅ Stratified split applied.\n",
      "✅ Train size: (2064, 8) | Test size: (516, 8)\n",
      "🧪 Train class distribution:\n",
      "churned\n",
      "True     1318\n",
      "False     746\n",
      "Name: count, dtype: int64\n"
     ]
    }
   ],
   "source": [
    "# ✅ Define and drop potential leakage columns\n",
    "leak_columns = ['last_day', 'active_days', 'session_count', 'total_time']\n",
    "\n",
    "# ✅ Clean the dataset: drop identifier + leak-prone columns\n",
    "df.fillna(0, inplace=True)\n",
    "X = df.drop(['user_id', 'churned'] + leak_columns, axis=1)\n",
    "y = df['churned']\n",
    "\n",
    "# 🔍 Check class balance before splitting\n",
    "print(\"🔍 Target distribution (y):\")\n",
    "print(y.value_counts())\n",
    "\n",
    "# ✅ Perform stratified train-test split (only if more than 1 class)\n",
    "if y.nunique() > 1:\n",
    "    X_train, X_test, y_train, y_test = train_test_split(\n",
    "        X, y, test_size=0.2, random_state=42, stratify=y\n",
    "    )\n",
    "    print(\"✅ Stratified split applied.\")\n",
    "else:\n",
    "    X_train, X_test, y_train, y_test = train_test_split(\n",
    "        X, y, test_size=0.2, random_state=42\n",
    "    )\n",
    "    print(\"⚠ Stratified split skipped (only one class found).\")\n",
    "\n",
    "# ✅ Scale features for fair ML training\n",
    "scaler = StandardScaler()\n",
    "X_train_scaled = scaler.fit_transform(X_train)\n",
    "X_test_scaled  = scaler.transform(X_test)\n",
    "\n",
    "# 📊 Display final status\n",
    "print(f\"✅ Train size: {X_train.shape} | Test size: {X_test.shape}\")\n",
    "print(\"🧪 Train class distribution:\")\n",
    "print(y_train.value_counts())"
   ]
  },
  {
   "cell_type": "markdown",
   "id": "d9695392",
   "metadata": {},
   "source": [
    "## 🤖 Cell 3 — Define & Train 6 ML Models\n",
    "\n",
    "This cell defines six classification models that are commonly used in churn prediction:\n",
    "- Logistic Regression\n",
    "- Random Forest\n",
    "- Gradient Boosting\n",
    "- XGBoost\n",
    "- LightGBM\n",
    "- SVM (Support Vector Machine)\n",
    "\n",
    "Each model is trained on the scaled training set, and predictions are made on the test set.\n",
    "We then calculate and print the accuracy in percentage.\n"
   ]
  },
  {
   "cell_type": "code",
   "execution_count": 4,
   "id": "f07ba51b",
   "metadata": {},
   "outputs": [
    {
     "name": "stdout",
     "output_type": "stream",
     "text": [
      "\n",
      "🔍 Logistic Regression\n",
      "✅ Accuracy: 67.64%\n",
      "[[ 43 144]\n",
      " [ 23 306]]\n",
      "              precision    recall  f1-score   support\n",
      "\n",
      "       False       0.65      0.23      0.34       187\n",
      "        True       0.68      0.93      0.79       329\n",
      "\n",
      "    accuracy                           0.68       516\n",
      "   macro avg       0.67      0.58      0.56       516\n",
      "weighted avg       0.67      0.68      0.62       516\n",
      "\n",
      "\n",
      "🔍 Random Forest\n",
      "✅ Accuracy: 66.86%\n",
      "[[ 77 110]\n",
      " [ 61 268]]\n",
      "              precision    recall  f1-score   support\n",
      "\n",
      "       False       0.56      0.41      0.47       187\n",
      "        True       0.71      0.81      0.76       329\n",
      "\n",
      "    accuracy                           0.67       516\n",
      "   macro avg       0.63      0.61      0.62       516\n",
      "weighted avg       0.65      0.67      0.66       516\n",
      "\n",
      "\n",
      "🔍 Gradient Boosting\n",
      "✅ Accuracy: 67.83%\n",
      "[[ 68 119]\n",
      " [ 47 282]]\n",
      "              precision    recall  f1-score   support\n",
      "\n",
      "       False       0.59      0.36      0.45       187\n",
      "        True       0.70      0.86      0.77       329\n",
      "\n",
      "    accuracy                           0.68       516\n",
      "   macro avg       0.65      0.61      0.61       516\n",
      "weighted avg       0.66      0.68      0.66       516\n",
      "\n",
      "\n",
      "🔍 XGBoost\n"
     ]
    },
    {
     "name": "stderr",
     "output_type": "stream",
     "text": [
      "f:\\Bachleros Research\\slam-churn-project\\.venv\\Lib\\site-packages\\xgboost\\training.py:183: UserWarning: [01:18:05] WARNING: C:\\actions-runner\\_work\\xgboost\\xgboost\\src\\learner.cc:738: \n",
      "Parameters: { \"use_label_encoder\" } are not used.\n",
      "\n",
      "  bst.update(dtrain, iteration=i, fobj=obj)\n"
     ]
    },
    {
     "name": "stdout",
     "output_type": "stream",
     "text": [
      "✅ Accuracy: 68.02%\n",
      "[[ 80 107]\n",
      " [ 58 271]]\n",
      "              precision    recall  f1-score   support\n",
      "\n",
      "       False       0.58      0.43      0.49       187\n",
      "        True       0.72      0.82      0.77       329\n",
      "\n",
      "    accuracy                           0.68       516\n",
      "   macro avg       0.65      0.63      0.63       516\n",
      "weighted avg       0.67      0.68      0.67       516\n",
      "\n",
      "\n",
      "🔍 LightGBM\n",
      "[LightGBM] [Info] Number of positive: 1318, number of negative: 746\n",
      "[LightGBM] [Info] Auto-choosing row-wise multi-threading, the overhead of testing was 0.000315 seconds.\n",
      "You can set `force_row_wise=true` to remove the overhead.\n",
      "And if memory is not enough, you can set `force_col_wise=true`.\n",
      "[LightGBM] [Info] Total Bins 1396\n",
      "[LightGBM] [Info] Number of data points in the train set: 2064, number of used features: 8\n",
      "[LightGBM] [Info] [binary:BoostFromScore]: pavg=0.638566 -> initscore=0.569145\n",
      "[LightGBM] [Info] Start training from score 0.569145\n"
     ]
    },
    {
     "name": "stderr",
     "output_type": "stream",
     "text": [
      "f:\\Bachleros Research\\slam-churn-project\\.venv\\Lib\\site-packages\\sklearn\\utils\\validation.py:2749: UserWarning: X does not have valid feature names, but LGBMClassifier was fitted with feature names\n",
      "  warnings.warn(\n"
     ]
    },
    {
     "name": "stdout",
     "output_type": "stream",
     "text": [
      "✅ Accuracy: 65.89%\n",
      "[[ 75 112]\n",
      " [ 64 265]]\n",
      "              precision    recall  f1-score   support\n",
      "\n",
      "       False       0.54      0.40      0.46       187\n",
      "        True       0.70      0.81      0.75       329\n",
      "\n",
      "    accuracy                           0.66       516\n",
      "   macro avg       0.62      0.60      0.61       516\n",
      "weighted avg       0.64      0.66      0.65       516\n",
      "\n",
      "\n",
      "🔍 SVM\n",
      "✅ Accuracy: 69.77%\n",
      "[[ 62 125]\n",
      " [ 31 298]]\n",
      "              precision    recall  f1-score   support\n",
      "\n",
      "       False       0.67      0.33      0.44       187\n",
      "        True       0.70      0.91      0.79       329\n",
      "\n",
      "    accuracy                           0.70       516\n",
      "   macro avg       0.69      0.62      0.62       516\n",
      "weighted avg       0.69      0.70      0.67       516\n",
      "\n"
     ]
    }
   ],
   "source": [
    "models = {\n",
    "    \"Logistic Regression\": LogisticRegression(max_iter=500),\n",
    "    \"Random Forest\": RandomForestClassifier(n_estimators=100),\n",
    "    \"Gradient Boosting\": GradientBoostingClassifier(),\n",
    "    \"XGBoost\": XGBClassifier(use_label_encoder=False, eval_metric='logloss'),\n",
    "    \"LightGBM\": LGBMClassifier(),\n",
    "    \"SVM\": SVC()\n",
    "}\n",
    "\n",
    "results = []\n",
    "predictions = {}\n",
    "\n",
    "for name, model in models.items():\n",
    "    print(f\"\\n🔍 {name}\")\n",
    "    model.fit(X_train_scaled, y_train)\n",
    "    y_pred = model.predict(X_test_scaled)\n",
    "    predictions[name] = y_pred\n",
    "\n",
    "    acc = accuracy_score(y_test, y_pred)\n",
    "    results.append((name, acc))\n",
    "\n",
    "    print(f\"✅ Accuracy: {acc * 100:.2f}%\")\n",
    "    print(confusion_matrix(y_test, y_pred))\n",
    "    print(classification_report(y_test, y_pred))\n"
   ]
  },
  {
   "cell_type": "markdown",
   "id": "3cc80938",
   "metadata": {},
   "source": [
    "## 📊 Cell 4 — Visualize Model Accuracy Comparison\n",
    "\n",
    "This chart shows a side-by-side comparison of all models' performance using bar chart.\n",
    "It provides a quick overview of which model has the highest accuracy.\n"
   ]
  },
  {
   "cell_type": "code",
   "execution_count": 5,
   "id": "5cc74135",
   "metadata": {},
   "outputs": [
    {
     "name": "stderr",
     "output_type": "stream",
     "text": [
      "C:\\Users\\poono\\AppData\\Local\\Temp\\ipykernel_11316\\1896673592.py:6: FutureWarning: \n",
      "\n",
      "Passing `palette` without assigning `hue` is deprecated and will be removed in v0.14.0. Assign the `y` variable to `hue` and set `legend=False` for the same effect.\n",
      "\n",
      "  sns.barplot(x=accuracies, y=model_names, palette=\"viridis\")\n",
      "C:\\Users\\poono\\AppData\\Local\\Temp\\ipykernel_11316\\1896673592.py:10: UserWarning: Glyph 128202 (\\N{BAR CHART}) missing from font(s) Arial.\n",
      "  plt.tight_layout()\n",
      "C:\\Users\\poono\\AppData\\Local\\Temp\\ipykernel_11316\\1896673592.py:14: UserWarning: Glyph 128202 (\\N{BAR CHART}) missing from font(s) Arial.\n",
      "  plt.savefig(acc_path)\n",
      "f:\\Bachleros Research\\slam-churn-project\\.venv\\Lib\\site-packages\\IPython\\core\\pylabtools.py:170: UserWarning: Glyph 128202 (\\N{BAR CHART}) missing from font(s) Arial.\n",
      "  fig.canvas.print_figure(bytes_io, **kw)\n"
     ]
    },
    {
     "data": {
      "image/png": "[encoded data removed]",
      "text/plain": [
       "<Figure size 1000x500 with 1 Axes>"
      ]
     },
     "metadata": {},
     "output_type": "display_data"
    },
    {
     "name": "stdout",
     "output_type": "stream",
     "text": [
      "✅ Saved to f:\\Bachleros Research\\slam-churn-project\\outputs\\visualizations\\model_accuracy.png\n"
     ]
    }
   ],
   "source": [
    "# Plot model accuracy\n",
    "model_names = [x[0] for x in results]\n",
    "accuracies = [x[1] * 100 for x in results]\n",
    "\n",
    "plt.figure(figsize=(10, 5))\n",
    "sns.barplot(x=accuracies, y=model_names, palette=\"viridis\")\n",
    "plt.xlabel(\"Accuracy (%)\")\n",
    "plt.title(\"📊 Model Accuracy Comparison\")\n",
    "plt.xlim(0, 100)\n",
    "plt.tight_layout()\n",
    "\n",
    "# Save the figure\n",
    "acc_path = vis_dir / \"model_accuracy.png\"\n",
    "plt.savefig(acc_path)\n",
    "plt.show()\n",
    "\n",
    "print(f\"✅ Saved to {acc_path}\")\n"
   ]
  },
  {
   "cell_type": "markdown",
   "id": "535b9278",
   "metadata": {},
   "source": [
    "## 📈 Cell 5 — Confusion Matrix Heatmap for Best Model\n",
    "\n",
    "We identify the best-performing model (highest accuracy) and visualize its confusion matrix.\n",
    "This helps us see how well it classified churned vs non-churned users.\n"
   ]
  },
  {
   "cell_type": "code",
   "execution_count": 6,
   "id": "90302f89",
   "metadata": {},
   "outputs": [
    {
     "name": "stderr",
     "output_type": "stream",
     "text": [
      "C:\\Users\\poono\\AppData\\Local\\Temp\\ipykernel_11316\\3044767562.py:17: UserWarning: Glyph 128202 (\\N{BAR CHART}) missing from font(s) Arial.\n",
      "  plt.savefig(conf_path)\n",
      "f:\\Bachleros Research\\slam-churn-project\\.venv\\Lib\\site-packages\\IPython\\core\\pylabtools.py:170: UserWarning: Glyph 128202 (\\N{BAR CHART}) missing from font(s) Arial.\n",
      "  fig.canvas.print_figure(bytes_io, **kw)\n"
     ]
    },
    {
     "data": {
      "image/png": "[encoded data removed]",
      "text/plain": [
       "<Figure size 600x500 with 2 Axes>"
      ]
     },
     "metadata": {},
     "output_type": "display_data"
    },
    {
     "name": "stdout",
     "output_type": "stream",
     "text": [
      "✅ Saved to f:\\Bachleros Research\\slam-churn-project\\outputs\\visualizations\\best_model_confusion_matrix.png\n"
     ]
    }
   ],
   "source": [
    "# Get the best model name\n",
    "best_model_name, _ = max(results, key=lambda x: x[1])\n",
    "best_pred = predictions[best_model_name]\n",
    "\n",
    "# Confusion Matrix\n",
    "cm = confusion_matrix(y_test, best_pred)\n",
    "labels = [\"Not Churned\", \"Churned\"]\n",
    "\n",
    "plt.figure(figsize=(6, 5))\n",
    "sns.heatmap(cm, annot=True, fmt=\"d\", cmap=\"Blues\", xticklabels=labels, yticklabels=labels)\n",
    "plt.title(f\"📊 Confusion Matrix: {best_model_name}\")\n",
    "plt.xlabel(\"Predicted\")\n",
    "plt.ylabel(\"Actual\")\n",
    "\n",
    "# Save the heatmap\n",
    "conf_path = vis_dir / \"best_model_confusion_matrix.png\"\n",
    "plt.savefig(conf_path)\n",
    "plt.tight_layout()\n",
    "plt.show()\n",
    "\n",
    "print(f\"✅ Saved to {conf_path}\")\n"
   ]
  },
  {
   "cell_type": "markdown",
   "id": "1dc160b0",
   "metadata": {},
   "source": [
    "## 📈 Cell 6 — Classification Report Heatmap (Precision, Recall, F1)\n",
    "\n",
    "To dig deeper into performance metrics, we create a heatmap of the classification report.\n",
    "This shows precision, recall, and F1-score for each class.\n"
   ]
  },
  {
   "cell_type": "code",
   "execution_count": 7,
   "id": "d83e0bf3",
   "metadata": {},
   "outputs": [
    {
     "name": "stderr",
     "output_type": "stream",
     "text": [
      "C:\\Users\\poono\\AppData\\Local\\Temp\\ipykernel_11316\\3399786220.py:8: UserWarning: Glyph 128200 (\\N{CHART WITH UPWARDS TREND}) missing from font(s) Arial.\n",
      "  plt.tight_layout()\n",
      "C:\\Users\\poono\\AppData\\Local\\Temp\\ipykernel_11316\\3399786220.py:12: UserWarning: Glyph 128200 (\\N{CHART WITH UPWARDS TREND}) missing from font(s) Arial.\n",
      "  plt.savefig(report_path)\n",
      "f:\\Bachleros Research\\slam-churn-project\\.venv\\Lib\\site-packages\\IPython\\core\\pylabtools.py:170: UserWarning: Glyph 128200 (\\N{CHART WITH UPWARDS TREND}) missing from font(s) Arial.\n",
      "  fig.canvas.print_figure(bytes_io, **kw)\n"
     ]
    },
    {
     "data": {
      "image/png": "[encoded data removed]",
      "text/plain": [
       "<Figure size 800x400 with 2 Axes>"
      ]
     },
     "metadata": {},
     "output_type": "display_data"
    },
    {
     "name": "stdout",
     "output_type": "stream",
     "text": [
      "✅ Saved to f:\\Bachleros Research\\slam-churn-project\\outputs\\visualizations\\best_model_classification_report.png\n"
     ]
    }
   ],
   "source": [
    "# Classification Report as dictionary\n",
    "report = classification_report(y_test, best_pred, output_dict=True)\n",
    "report_df = pd.DataFrame(report).transpose().drop(['accuracy', 'macro avg', 'weighted avg'], errors='ignore')\n",
    "\n",
    "plt.figure(figsize=(8, 4))\n",
    "sns.heatmap(report_df, annot=True, cmap=\"YlGnBu\", fmt=\".2f\")\n",
    "plt.title(f\"📈 Classification Report: {best_model_name}\")\n",
    "plt.tight_layout()\n",
    "\n",
    "# Save the heatmap\n",
    "report_path = vis_dir / \"best_model_classification_report.png\"\n",
    "plt.savefig(report_path)\n",
    "plt.show()\n",
    "\n",
    "print(f\"✅ Saved to {report_path}\")\n"
   ]
  },
  {
   "cell_type": "markdown",
   "id": "eaaff630",
   "metadata": {},
   "source": [
    "## 💾 Cell 7 — Save Final Predictions to CSV\n",
    "\n",
    "We attach the best model’s predictions to the test set and save the final file.\n",
    "This CSV will be used in the BI dashboard later.\n"
   ]
  },
  {
   "cell_type": "code",
   "execution_count": 8,
   "id": "71e78a78",
   "metadata": {},
   "outputs": [
    {
     "name": "stdout",
     "output_type": "stream",
     "text": [
      "✅ Final predictions saved to: f:\\Bachleros Research\\slam-churn-project\\outputs\\final_predictions.csv\n"
     ]
    }
   ],
   "source": [
    "# Re-attach predictions\n",
    "final_df = X_test.copy()\n",
    "final_df[\"actual_churned\"] = y_test.values\n",
    "final_df[\"predicted_churned\"] = best_pred\n",
    "\n",
    "# Save predictions\n",
    "pred_path = output_dir / \"final_predictions.csv\"\n",
    "final_df.to_csv(pred_path, index=False)\n",
    "print(f\"✅ Final predictions saved to: {pred_path}\")\n"
   ]
  },
  {
   "cell_type": "markdown",
   "id": "961706d6",
   "metadata": {},
   "source": [
    "## 📘 Cell 8 — Final Summary\n",
    "\n",
    "All machine learning tasks are complete.\n",
    "\n",
    "✅ Loaded and cleaned the user feature dataset.  \n",
    "✅ Trained and evaluated 6 ML models:  \n",
    "- Logistic Regression  \n",
    "- Random Forest  \n",
    "- Gradient Boosting  \n",
    "- XGBoost  \n",
    "- LightGBM  \n",
    "- SVM  \n",
    "\n",
    "🏆 **Best performing model:** {best_model_name}  \n",
    "📊 Accuracy & confusion matrix visuals saved to: `outputs/visualizations/`  \n",
    "📁 Final predictions saved to: `outputs/final_predictions.csv`  \n"
   ]
  },
  {
   "cell_type": "code",
   "execution_count": 9,
   "id": "231cbc75",
   "metadata": {},
   "outputs": [
    {
     "name": "stdout",
     "output_type": "stream",
     "text": [
      "📘 Final Summary\n",
      "✅ Loaded and cleaned user features.\n",
      "✅ Trained and evaluated 6 ML models:\n",
      "   - Logistic Regression: 67.64% accuracy\n",
      "   - Random Forest: 66.86% accuracy\n",
      "   - Gradient Boosting: 67.83% accuracy\n",
      "   - XGBoost: 68.02% accuracy\n",
      "   - LightGBM: 65.89% accuracy\n",
      "   - SVM: 69.77% accuracy\n",
      "\n",
      "🏆 Best model: SVM\n",
      "📊 Accuracy & confusion matrix visuals saved to outputs/visualizations/\n",
      "📁 Final predictions saved to outputs/final_predictions.csv\n"
     ]
    }
   ],
   "source": [
    "print(\"📘 Final Summary\")\n",
    "print(\"✅ Loaded and cleaned user features.\")\n",
    "print(\"✅ Trained and evaluated 6 ML models:\")\n",
    "for name, acc in results:\n",
    "    print(f\"   - {name}: {acc * 100:.2f}% accuracy\")\n",
    "\n",
    "print(f\"\\n🏆 Best model: {best_model_name}\")\n",
    "print(\"📊 Accuracy & confusion matrix visuals saved to outputs/visualizations/\")\n",
    "print(\"📁 Final predictions saved to outputs/final_predictions.csv\")\n"
   ]
  }
 ],
 "metadata": {
  "kernelspec": {
   "display_name": ".venv",
   "language": "python",
   "name": "python3"
  },
  "language_info": {
   "codemirror_mode": {
    "name": "ipython",
    "version": 3
   },
   "file_extension": ".py",
   "mimetype": "text/x-python",
   "name": "python",
   "nbconvert_exporter": "python",
   "pygments_lexer": "ipython3",
   "version": "3.13.5"
  }
 },
 "nbformat": 4,
 "nbformat_minor": 5
}
